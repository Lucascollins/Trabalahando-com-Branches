{
 "cells": [
  {
   "cell_type": "code",
   "execution_count": 99,
   "id": "ed48c768",
   "metadata": {
    "scrolled": true
   },
   "outputs": [
    {
     "name": "stdout",
     "output_type": "stream",
     "text": [
      "Exist\n",
      "C:/Users/Games/Desktop/arroz was deleted\n"
     ]
    },
    {
     "data": {
      "text/plain": [
       "<__main__.clear at 0x1cd5f92ce20>"
      ]
     },
     "execution_count": 99,
     "metadata": {},
     "output_type": "execute_result"
    }
   ],
   "source": [
    "\n",
    "import os\n",
    "import shutil\n",
    "\n",
    "\n",
    "class clear:\n",
    "    n = 0\n",
    "    path_default = ['All Users', 'Default', 'Default User', 'desktop.ini', 'Public', 'Todos os Usuários', 'Usuário Padrão']\n",
    "    path= os.listdir(\"C:/Users\")\n",
    "    for os_list in path:\n",
    "        if os_list == path_default[n]:\n",
    "            n+=1\n",
    "        else:\n",
    "            User_Profile = os_list\n",
    "    newPath = f\"C:/Users/{User_Profile}/Desktop/arroz\"\n",
    "    try:\n",
    "        os.mkdir(newPath)\n",
    "    except FileExistsError as e:\n",
    "        print(\"Exist\")\n",
    "    #def move_Files():\n",
    "    _documentsFiles = os.listdir(\"Documents\")\n",
    "    _downloadFiles = os.listdir(\"Downloads\")\n",
    "    for files in _documentsFiles:\n",
    "        os.rename(f\"Documents/{files}\",f\"/Users/{User_Profile}/Desktop/arroz/{files}\")\n",
    "    for file in _downloadFiles:\n",
    "        os.rename(f\"Downloads/{file}\",f\"/Users/{User_Profile}/Desktop/arroz/{file}\")\n",
    "    #def delete():\n",
    "    try:\n",
    "        shutil.rmtree(newPath)\n",
    "    except PermissonError:\n",
    "        print(\"You dont have permission this\")\n",
    "    except OSError:\n",
    "        print(\"You dont have permission this\")\n",
    "    except FileExistsError:\n",
    "        print(\"You dont have permission this\")\n",
    "    else:\n",
    "        print(f\"{newPath} was deleted\")\n",
    "            \n",
    "            \n",
    "   \n",
    "    \n",
    "    \n",
    "\n",
    "clear()"
   ]
  },
  {
   "cell_type": "code",
   "execution_count": 66,
   "id": "a34bf843",
   "metadata": {},
   "outputs": [
    {
     "name": "stdout",
     "output_type": "stream",
     "text": [
      "Games\n"
     ]
    }
   ],
   "source": [
    "import os\n",
    "n = 0\n",
    "path_default = ['All Users', 'Default', 'Default User', 'desktop.ini', 'Public', 'Todos os Usuários', 'Usuário Padrão']\n",
    "path= os.listdir(\"C:/Users\")\n",
    "\n",
    "\n",
    "for os_list in path:\n",
    "    if os_list == path_default[n]:\n",
    "        n+=1\n",
    "    else:\n",
    "        a = (os_list)\n",
    "\n",
    "print(a)\n",
    "    \n",
    "    \n",
    " \n"
   ]
  },
  {
   "cell_type": "code",
   "execution_count": 97,
   "id": "87bf63b9",
   "metadata": {},
   "outputs": [
    {
     "name": "stdout",
     "output_type": "stream",
     "text": [
      "[]\n"
     ]
    }
   ],
   "source": [
    "import os\n",
    "print(os.listdir(\"C:/Users/Games/Documents\"))\n"
   ]
  },
  {
   "cell_type": "code",
   "execution_count": null,
   "id": "ccd1b7f7",
   "metadata": {},
   "outputs": [],
   "source": []
  }
 ],
 "metadata": {
  "kernelspec": {
   "display_name": "Python 3 (ipykernel)",
   "language": "python",
   "name": "python3"
  },
  "language_info": {
   "codemirror_mode": {
    "name": "ipython",
    "version": 3
   },
   "file_extension": ".py",
   "mimetype": "text/x-python",
   "name": "python",
   "nbconvert_exporter": "python",
   "pygments_lexer": "ipython3",
   "version": "3.8.10"
  }
 },
 "nbformat": 4,
 "nbformat_minor": 5
}
